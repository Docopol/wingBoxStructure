{
 "cells": [
  {
   "cell_type": "code",
   "execution_count": 1,
   "metadata": {},
   "outputs": [],
   "source": [
    "import numpy as np\n",
    "import scipy as sp\n",
    "import matplotlib.pyplot as plt\n",
    "\n",
    "%matplotlib inline"
   ]
  },
  {
   "cell_type": "code",
   "execution_count": 2,
   "metadata": {},
   "outputs": [],
   "source": [
    "maxForce = 3.3e3\n",
    "bucklingForce = 3e3"
   ]
  },
  {
   "cell_type": "code",
   "execution_count": 3,
   "metadata": {},
   "outputs": [],
   "source": [
    "#Whiffle tree\n",
    "\n",
    "attachmentPositions = np.array([[-3e3, 1.0375e3, 1.0375e3, 0.6166e3, 0.30833e3], [0, 0.45, 1.05, 1.75, 2.35]], dtype=np.float32)"
   ]
  },
  {
   "cell_type": "code",
   "execution_count": 93,
   "metadata": {},
   "outputs": [],
   "source": [
    "#Shear force in beam\n",
    "\n",
    "def shearDiagram(position):\n",
    "    shearAtPosition = -sum(attachmentPositions[0][position >= attachmentPositions[1][:]])\n",
    "    return shearAtPosition\n",
    "    \n",
    "#Bending force in the beam\n",
    "\n",
    "def bendingDiagramTest(position):\n",
    "    mask = np.array([position[:, np.newaxis] >= attachmentPositions[1][:]])\n",
    "    mask = np.squeeze(mask, axis=0)\n",
    "    newPos = attachmentPositions[0]\n",
    "    print(mask.shape)\n",
    "    print(newPos, mask)\n",
    "    #print(newPos[np.ix_(*mask.T)])\n",
    "    #bendingAtPosition = 3e3 * 1.12 - sum(attachmentPositions)\n",
    "    #bendingAtPosition = 3e3 * 1.12 - sum(attachmentPositions[0, np.newaxis][mask] * attachmentPositions[1][mask[:,]])\n",
    "    #return bendingAtPosition\n",
    "    \n",
    "def bendingDiagram(position):\n",
    "    bendingAtPosition = 3e3 * 1.12 - sum(attachmentPositions[0][position >= attachmentPositions[1][:]] * attachmentPositions[1][position >= attachmentPositions[1][:]])\n",
    "    return bendingAtPosition\n"
   ]
  },
  {
   "cell_type": "code",
   "execution_count": 84,
   "metadata": {},
   "outputs": [],
   "source": [
    "?np.ix_"
   ]
  },
  {
   "cell_type": "code",
   "execution_count": 94,
   "metadata": {},
   "outputs": [
    {
     "name": "stdout",
     "output_type": "stream",
     "text": [
      "(270, 5)\n",
      "[-3000.    1037.5   1037.5    616.6    308.33] [[ True False False False False]\n",
      " [ True False False False False]\n",
      " [ True False False False False]\n",
      " ...\n",
      " [ True  True  True  True  True]\n",
      " [ True  True  True  True  True]\n",
      " [ True  True  True  True  True]]\n"
     ]
    },
    {
     "ename": "ValueError",
     "evalue": "Cross index must be 1 dimensional",
     "output_type": "error",
     "traceback": [
      "\u001b[0;31m---------------------------------------------------------------------------\u001b[0m",
      "\u001b[0;31mValueError\u001b[0m                                Traceback (most recent call last)",
      "\u001b[0;32m<ipython-input-94-31c1339c44c4>\u001b[0m in \u001b[0;36m<module>\u001b[0;34m\u001b[0m\n\u001b[0;32m----> 1\u001b[0;31m \u001b[0mprint\u001b[0m\u001b[0;34m(\u001b[0m\u001b[0mbendingDiagramTest\u001b[0m\u001b[0;34m(\u001b[0m\u001b[0mlengthBeam\u001b[0m\u001b[0;34m)\u001b[0m\u001b[0;34m)\u001b[0m\u001b[0;34m\u001b[0m\u001b[0;34m\u001b[0m\u001b[0m\n\u001b[0m",
      "\u001b[0;32m<ipython-input-93-9fe3de2062b4>\u001b[0m in \u001b[0;36mbendingDiagramTest\u001b[0;34m(position)\u001b[0m\n\u001b[1;32m     13\u001b[0m     \u001b[0mprint\u001b[0m\u001b[0;34m(\u001b[0m\u001b[0mmask\u001b[0m\u001b[0;34m.\u001b[0m\u001b[0mshape\u001b[0m\u001b[0;34m)\u001b[0m\u001b[0;34m\u001b[0m\u001b[0;34m\u001b[0m\u001b[0m\n\u001b[1;32m     14\u001b[0m     \u001b[0mprint\u001b[0m\u001b[0;34m(\u001b[0m\u001b[0mnewPos\u001b[0m\u001b[0;34m,\u001b[0m \u001b[0mmask\u001b[0m\u001b[0;34m)\u001b[0m\u001b[0;34m\u001b[0m\u001b[0;34m\u001b[0m\u001b[0m\n\u001b[0;32m---> 15\u001b[0;31m     \u001b[0mprint\u001b[0m\u001b[0;34m(\u001b[0m\u001b[0mnp\u001b[0m\u001b[0;34m.\u001b[0m\u001b[0mix_\u001b[0m\u001b[0;34m(\u001b[0m\u001b[0;34m*\u001b[0m\u001b[0mnewPos\u001b[0m\u001b[0;34m.\u001b[0m\u001b[0mT\u001b[0m\u001b[0;34m)\u001b[0m\u001b[0;34m)\u001b[0m\u001b[0;34m\u001b[0m\u001b[0;34m\u001b[0m\u001b[0m\n\u001b[0m\u001b[1;32m     16\u001b[0m     \u001b[0;31m#print(newPos[np.ix_(*mask.T)])\u001b[0m\u001b[0;34m\u001b[0m\u001b[0;34m\u001b[0m\u001b[0;34m\u001b[0m\u001b[0m\n\u001b[1;32m     17\u001b[0m     \u001b[0;31m#bendingAtPosition = 3e3 * 1.12 - sum(attachmentPositions)\u001b[0m\u001b[0;34m\u001b[0m\u001b[0;34m\u001b[0m\u001b[0;34m\u001b[0m\u001b[0m\n",
      "\u001b[0;32m<__array_function__ internals>\u001b[0m in \u001b[0;36mix_\u001b[0;34m(*args, **kwargs)\u001b[0m\n",
      "\u001b[0;32m~/Programs/anaconda3/lib/python3.7/site-packages/numpy/lib/index_tricks.py\u001b[0m in \u001b[0;36mix_\u001b[0;34m(*args)\u001b[0m\n\u001b[1;32m    101\u001b[0m                 \u001b[0mnew\u001b[0m \u001b[0;34m=\u001b[0m \u001b[0mnew\u001b[0m\u001b[0;34m.\u001b[0m\u001b[0mastype\u001b[0m\u001b[0;34m(\u001b[0m\u001b[0m_nx\u001b[0m\u001b[0;34m.\u001b[0m\u001b[0mintp\u001b[0m\u001b[0;34m)\u001b[0m\u001b[0;34m\u001b[0m\u001b[0;34m\u001b[0m\u001b[0m\n\u001b[1;32m    102\u001b[0m         \u001b[0;32mif\u001b[0m \u001b[0mnew\u001b[0m\u001b[0;34m.\u001b[0m\u001b[0mndim\u001b[0m \u001b[0;34m!=\u001b[0m \u001b[0;36m1\u001b[0m\u001b[0;34m:\u001b[0m\u001b[0;34m\u001b[0m\u001b[0;34m\u001b[0m\u001b[0m\n\u001b[0;32m--> 103\u001b[0;31m             \u001b[0;32mraise\u001b[0m \u001b[0mValueError\u001b[0m\u001b[0;34m(\u001b[0m\u001b[0;34m\"Cross index must be 1 dimensional\"\u001b[0m\u001b[0;34m)\u001b[0m\u001b[0;34m\u001b[0m\u001b[0;34m\u001b[0m\u001b[0m\n\u001b[0m\u001b[1;32m    104\u001b[0m         \u001b[0;32mif\u001b[0m \u001b[0missubdtype\u001b[0m\u001b[0;34m(\u001b[0m\u001b[0mnew\u001b[0m\u001b[0;34m.\u001b[0m\u001b[0mdtype\u001b[0m\u001b[0;34m,\u001b[0m \u001b[0m_nx\u001b[0m\u001b[0;34m.\u001b[0m\u001b[0mbool_\u001b[0m\u001b[0;34m)\u001b[0m\u001b[0;34m:\u001b[0m\u001b[0;34m\u001b[0m\u001b[0;34m\u001b[0m\u001b[0m\n\u001b[1;32m    105\u001b[0m             \u001b[0mnew\u001b[0m\u001b[0;34m,\u001b[0m \u001b[0;34m=\u001b[0m \u001b[0mnew\u001b[0m\u001b[0;34m.\u001b[0m\u001b[0mnonzero\u001b[0m\u001b[0;34m(\u001b[0m\u001b[0;34m)\u001b[0m\u001b[0;34m\u001b[0m\u001b[0;34m\u001b[0m\u001b[0m\n",
      "\u001b[0;31mValueError\u001b[0m: Cross index must be 1 dimensional"
     ]
    }
   ],
   "source": [
    "print(bendingDiagramTest(lengthBeam))"
   ]
  },
  {
   "cell_type": "code",
   "execution_count": 6,
   "metadata": {},
   "outputs": [],
   "source": [
    "#Second moment of area calculation\n",
    "\n",
    "\n",
    "#stringerParameters = np.array([[1, 1.25, 1.5, 0.152], np.ones(4)*0.02, np.ones(4)*0.02, np.ones(4)*1.5e-3], dtype=np.float32)\n",
    "\n",
    "#sheetRParameters = np.array([[0.1484, 0.1484, 0.4, 0.1484], [8e-4, 8e-4, 8e-4, 8e-4]], dtype = np.float32)\n",
    "\n",
    "#Format for elements xCg, yCg, xLength, yLength\n",
    "\n",
    "#Bottom part stringer and then vertical part stringer\n",
    "stringerGeneral = np.array([[0.01075, 0.00075, 0.0185, 0.0015], [0.00075, 0.01, 0.0015, 0.02]], dtype=np.float32)\n",
    "stringerBot = np.array([[0.01075, 0.00075+0.0008, 0.0185, 0.0015], [0.00075, 0.01+0.0008, 0.0015, 0.02]], dtype=np.float32)\n",
    "stringerTop = np.array([[0.01075, 0.15-0.00075-0.0008, 0.0185, 0.0015], [0.00075, 0.15-0.01-0.0008, 0.0015, 0.02]], dtype=np.float32)\n",
    "\n",
    "#Sheet order bottom C, left A, top C, right A\n",
    "sheet = np.array([[0.2, 0.0004, 0.4, 0.0008], [0.0004, 0.075, 0.0008, 0.1484], [0.2, 0.1496, 0.4, 0.0008], [0.3996, 0.075, 0.0008, 0.1484]], dtype=np.float32)\n",
    "\n",
    "def cgCalculator(structuralElements):\n",
    "    structuralElements = np.concatenate((structuralElements, np.array([structuralElements[:, 2]*structuralElements[:, 3]]).T), axis=1)\n",
    "    xCg = (sum(structuralElements[:, 0]*structuralElements[:, 4])/sum(structuralElements[:, 4]))\n",
    "    yCg = (sum(structuralElements[:, 1]*structuralElements[:, 4])/sum(structuralElements[:, 4]))\n",
    "    return xCg, yCg\n",
    "\n",
    "def secondMomentArea(xLength, yLength, xParallelAxis, yParallelAxis, axis):\n",
    "    if(axis == 'x'):\n",
    "        return ((yLength**3*xLength)/12 + xLength*yLength*yParallelAxis**2)\n",
    "    else:\n",
    "        return ((yLength*xLength**3)/12 + xLength*yLength*xParallelAxis**2) \n",
    "\n",
    "def secondMomentAreaAssembly(structuralElements, axisSMA): #structuralElements[xCg, yCg, xLength, yLength, ]\n",
    "    cg = cgCalculator(structuralElements)\n",
    "\n",
    "    return sum(secondMomentArea(structuralElements[:, 2], structuralElements[:, 3], abs(cg[0]-structuralElements[:, 0]), abs(cg[1]-structuralElements[:, 1]), axisSMA))\n",
    "\n",
    "def cutElements(structuralElements, axis, height):\n",
    "    if(axis == 'x'):\n",
    "        lowerCorner = structuralElements[:, 0] -  structuralElements[:, 2]/2\n",
    "        heightMask = (lowerCorner) < height\n",
    "        truncatedStructuralElements = structuralElements[heightMask].copy()\n",
    "        truncatedStructuralElements[:, 2] = np.minimum(truncatedStructuralElements[:, 2], (height - lowerCorner[heightMask]))\n",
    "        truncatedStructuralElements[:, 0] = (lowerCorner[heightMask] + truncatedStructuralElements[:, 2]/2)\n",
    "        return truncatedStructuralElements\n",
    "    else:\n",
    "        lowerCorner = structuralElements[:, 1] -  structuralElements[:, 3]/2\n",
    "        heightMask = (lowerCorner) < height\n",
    "        truncatedStructuralElements = structuralElements[heightMask].copy()\n",
    "        truncatedStructuralElements[:, 3] = np.minimum(truncatedStructuralElements[:, 3], (height - lowerCorner[heightMask]))\n",
    "        truncatedStructuralElements[:, 1] = (lowerCorner[heightMask] + truncatedStructuralElements[:, 3]/2)\n",
    "        return truncatedStructuralElements\n",
    "    \n",
    "def firstMomentAreaAssembly(structuralElements, axis, height):\n",
    "    cgReference = cgCalculator(structuralElements)\n",
    "    if(axis == 'x'):\n",
    "        structuralElementsCut = cutElements(structuralElements, 'y', height)\n",
    "        structuralElementsCut = np.concatenate((structuralElementsCut, np.array([structuralElementsCut[:, 2]*structuralElementsCut[:, 3]]).T), axis=1)\n",
    "        cgPart = cgCalculator(structuralElementsCut)[1]\n",
    "        return abs(cgReference[1]-cgPart)*sum(structuralElementsCut[:, 2]*structuralElementsCut[:, 3])\n",
    "    else:\n",
    "        structuralElementsCut = cutElements(structuralElements, 'x', height)\n",
    "        structuralElementsCut = np.concatenate((structuralElementsCut, np.array([structuralElementsCut[:, 2]*structuralElementsCut[:, 3]]).T), axis=1)\n",
    "        cgPart = cgCalculator(structuralElementsCut)[0]\n",
    "        return abs(cgReference[0]-cgPart)*sum(structuralElementsCut[:, 2]*structuralElementsCut[:, 3])"
   ]
  },
  {
   "cell_type": "code",
   "execution_count": 17,
   "metadata": {},
   "outputs": [
    {
     "name": "stdout",
     "output_type": "stream",
     "text": [
      "2.238636276352679e-09\n",
      "3.997489443463564e-06\n",
      "5.355828626818493e-06\n",
      "3.8088949885803754e-05\n"
     ]
    }
   ],
   "source": [
    "#print(secondMomentAreaAssembly(stringer, 'x'))\n",
    "\n",
    "nbStringersTop = 3\n",
    "nbStringersBot = 2\n",
    "\n",
    "stringerAssemblyTop = np.repeat(stringerTop, [nbStringersTop, nbStringersTop], axis=0)\n",
    "stringerAssemblyBot = np.repeat(stringerBot, [nbStringersBot, nbStringersBot], axis=0)\n",
    "\n",
    "wingAssembly = np.concatenate((sheet, stringerAssemblyBot, stringerAssemblyTop), axis=0)\n",
    "\n",
    "print(secondMomentAreaAssembly(stringerGeneral, 'x'))\n",
    "print(secondMomentAreaAssembly(sheet, 'x'))\n",
    "print(secondMomentAreaAssembly(wingAssembly, 'x'))\n",
    "print(firstMomentAreaAssembly(wingAssembly, 'x', 0.075))\n"
   ]
  },
  {
   "cell_type": "code",
   "execution_count": 10,
   "metadata": {},
   "outputs": [],
   "source": [
    "#Max bending moment calculation\n",
    "\n",
    "def normalBendingStress(positionFromRoot, structuralElements, axis):\n",
    "    if(axis == 'x'):\n",
    "        SMA = secondMomentAreaAssembly(structuralElements, axis)\n",
    "        neutralAxisPosition = cgCalculator(structuralElements)[1]\n",
    "        if(neutralAxisPosition > 0.15 - neutralAxisPosition):\n",
    "            return bendingDiagram(positionFromRoot)*neutralAxisPosition/SMA\n",
    "        else:\n",
    "            return bendingDiagram(positionFromRoot)*(0.15-neutralAxisPosition)/SMA\n",
    "    else:  #this part is not yet finished\n",
    "        SMA = secondMomentAreaAssembly(structuralElements, axis)\n",
    "        neutralAxisPosition = cgCalculator(structuralElements)[0]\n",
    "        if(neutralAxisPosition > 0.15 - neutralAxisPosition):\n",
    "            return bendingDiagram(positionFromRoot)*neutralAxisPosition/SMA\n",
    "        else:\n",
    "            return bendingDiagram(positionFromRoot)*(0.15-neutralAxisPosition)/SMA\n",
    "        \n",
    "def shearStress(positionFromRoot, structuralElements, height, axis):\n",
    "    SMA = secondMomentAreaAssembly(structuralElements, axis)\n",
    "    FMA = firstMomentAreaAssembly(structuralElements, axis, height)\n",
    "    print(SMA, FMA)\n",
    "    maxShear = shearDiagram(positionFromRoot)*FMA/(SMA*0.0015)\n",
    "    \n",
    "    return maxShear"
   ]
  },
  {
   "cell_type": "code",
   "execution_count": 18,
   "metadata": {},
   "outputs": [
    {
     "name": "stdout",
     "output_type": "stream",
     "text": [
      "Normal stress: 49.18411212812735 MPa\n",
      "5.355828626818493e-06 3.8088949885803754e-05\n",
      "Shear stress: 4.385537215529791 MPa\n"
     ]
    }
   ],
   "source": [
    "print(f'Normal stress: {normalBendingStress(0.001, wingAssembly, \"x\")/1e6} MPa')\n",
    "\n",
    "print(f'Shear stress: {shearStress(1.3, wingAssembly, 0.075, \"x\")/1e6} MPa')"
   ]
  },
  {
   "cell_type": "code",
   "execution_count": 21,
   "metadata": {},
   "outputs": [
    {
     "data": {
      "text/plain": [
       "49460826.61770038"
      ]
     },
     "execution_count": 21,
     "metadata": {},
     "output_type": "execute_result"
    }
   ],
   "source": [
    "normalBendingStress(0.001, wingAssembly, \"x\")"
   ]
  },
  {
   "cell_type": "code",
   "execution_count": 20,
   "metadata": {},
   "outputs": [
    {
     "ename": "ValueError",
     "evalue": "operands could not be broadcast together with shapes (270,) (5,) ",
     "output_type": "error",
     "traceback": [
      "\u001b[0;31m---------------------------------------------------------------------------\u001b[0m",
      "\u001b[0;31mValueError\u001b[0m                                Traceback (most recent call last)",
      "\u001b[0;32m<ipython-input-20-f76b7c19b2bb>\u001b[0m in \u001b[0;36m<module>\u001b[0;34m\u001b[0m\n\u001b[1;32m      4\u001b[0m \u001b[0mheightBeam\u001b[0m \u001b[0;34m=\u001b[0m \u001b[0mnp\u001b[0m\u001b[0;34m.\u001b[0m\u001b[0marange\u001b[0m\u001b[0;34m(\u001b[0m\u001b[0;36m0.001\u001b[0m\u001b[0;34m,\u001b[0m \u001b[0;36m0.15\u001b[0m\u001b[0;34m,\u001b[0m \u001b[0;36m0.01\u001b[0m\u001b[0;34m)\u001b[0m\u001b[0;34m\u001b[0m\u001b[0;34m\u001b[0m\u001b[0m\n\u001b[1;32m      5\u001b[0m \u001b[0;34m\u001b[0m\u001b[0m\n\u001b[0;32m----> 6\u001b[0;31m \u001b[0mplt\u001b[0m\u001b[0;34m.\u001b[0m\u001b[0mplot\u001b[0m\u001b[0;34m(\u001b[0m\u001b[0mlengthBeam\u001b[0m\u001b[0;34m,\u001b[0m \u001b[0mnormalBendingStress\u001b[0m\u001b[0;34m(\u001b[0m\u001b[0mlengthBeam\u001b[0m\u001b[0;34m,\u001b[0m \u001b[0mwingAssembly\u001b[0m\u001b[0;34m,\u001b[0m \u001b[0;34m\"x\"\u001b[0m\u001b[0;34m)\u001b[0m\u001b[0;34m/\u001b[0m\u001b[0;36m1e6\u001b[0m\u001b[0;34m)\u001b[0m\u001b[0;34m\u001b[0m\u001b[0;34m\u001b[0m\u001b[0m\n\u001b[0m\u001b[1;32m      7\u001b[0m \u001b[0;31m# plt.show()\u001b[0m\u001b[0;34m\u001b[0m\u001b[0;34m\u001b[0m\u001b[0;34m\u001b[0m\u001b[0m\n\u001b[1;32m      8\u001b[0m \u001b[0mprint\u001b[0m\u001b[0;34m(\u001b[0m\u001b[0mlengthBeam\u001b[0m\u001b[0;34m)\u001b[0m\u001b[0;34m\u001b[0m\u001b[0;34m\u001b[0m\u001b[0m\n",
      "\u001b[0;32m<ipython-input-10-1cbe6e150623>\u001b[0m in \u001b[0;36mnormalBendingStress\u001b[0;34m(positionFromRoot, structuralElements, axis)\u001b[0m\n\u001b[1;32m      6\u001b[0m         \u001b[0mneutralAxisPosition\u001b[0m \u001b[0;34m=\u001b[0m \u001b[0mcgCalculator\u001b[0m\u001b[0;34m(\u001b[0m\u001b[0mstructuralElements\u001b[0m\u001b[0;34m)\u001b[0m\u001b[0;34m[\u001b[0m\u001b[0;36m1\u001b[0m\u001b[0;34m]\u001b[0m\u001b[0;34m\u001b[0m\u001b[0;34m\u001b[0m\u001b[0m\n\u001b[1;32m      7\u001b[0m         \u001b[0;32mif\u001b[0m\u001b[0;34m(\u001b[0m\u001b[0mneutralAxisPosition\u001b[0m \u001b[0;34m>\u001b[0m \u001b[0;36m0.15\u001b[0m \u001b[0;34m-\u001b[0m \u001b[0mneutralAxisPosition\u001b[0m\u001b[0;34m)\u001b[0m\u001b[0;34m:\u001b[0m\u001b[0;34m\u001b[0m\u001b[0;34m\u001b[0m\u001b[0m\n\u001b[0;32m----> 8\u001b[0;31m             \u001b[0;32mreturn\u001b[0m \u001b[0mbendingDiagram\u001b[0m\u001b[0;34m(\u001b[0m\u001b[0mpositionFromRoot\u001b[0m\u001b[0;34m)\u001b[0m\u001b[0;34m*\u001b[0m\u001b[0mneutralAxisPosition\u001b[0m\u001b[0;34m/\u001b[0m\u001b[0mSMA\u001b[0m\u001b[0;34m\u001b[0m\u001b[0;34m\u001b[0m\u001b[0m\n\u001b[0m\u001b[1;32m      9\u001b[0m         \u001b[0;32melse\u001b[0m\u001b[0;34m:\u001b[0m\u001b[0;34m\u001b[0m\u001b[0;34m\u001b[0m\u001b[0m\n\u001b[1;32m     10\u001b[0m             \u001b[0;32mreturn\u001b[0m \u001b[0mbendingDiagram\u001b[0m\u001b[0;34m(\u001b[0m\u001b[0mpositionFromRoot\u001b[0m\u001b[0;34m)\u001b[0m\u001b[0;34m*\u001b[0m\u001b[0;34m(\u001b[0m\u001b[0;36m0.15\u001b[0m\u001b[0;34m-\u001b[0m\u001b[0mneutralAxisPosition\u001b[0m\u001b[0;34m)\u001b[0m\u001b[0;34m/\u001b[0m\u001b[0mSMA\u001b[0m\u001b[0;34m\u001b[0m\u001b[0;34m\u001b[0m\u001b[0m\n",
      "\u001b[0;32m<ipython-input-5-45e3b31f2c0d>\u001b[0m in \u001b[0;36mbendingDiagram\u001b[0;34m(position)\u001b[0m\n\u001b[1;32m     16\u001b[0m \u001b[0;34m\u001b[0m\u001b[0m\n\u001b[1;32m     17\u001b[0m \u001b[0;32mdef\u001b[0m \u001b[0mbendingDiagram\u001b[0m\u001b[0;34m(\u001b[0m\u001b[0mposition\u001b[0m\u001b[0;34m)\u001b[0m\u001b[0;34m:\u001b[0m\u001b[0;34m\u001b[0m\u001b[0;34m\u001b[0m\u001b[0m\n\u001b[0;32m---> 18\u001b[0;31m     \u001b[0mbendingAtPosition\u001b[0m \u001b[0;34m=\u001b[0m \u001b[0;36m3e3\u001b[0m \u001b[0;34m*\u001b[0m \u001b[0;36m1.12\u001b[0m \u001b[0;34m-\u001b[0m \u001b[0msum\u001b[0m\u001b[0;34m(\u001b[0m\u001b[0mattachmentPositions\u001b[0m\u001b[0;34m[\u001b[0m\u001b[0;36m0\u001b[0m\u001b[0;34m]\u001b[0m\u001b[0;34m[\u001b[0m\u001b[0mposition\u001b[0m \u001b[0;34m>=\u001b[0m \u001b[0mattachmentPositions\u001b[0m\u001b[0;34m[\u001b[0m\u001b[0;36m1\u001b[0m\u001b[0;34m]\u001b[0m\u001b[0;34m[\u001b[0m\u001b[0;34m:\u001b[0m\u001b[0;34m]\u001b[0m\u001b[0;34m]\u001b[0m \u001b[0;34m*\u001b[0m \u001b[0mattachmentPositions\u001b[0m\u001b[0;34m[\u001b[0m\u001b[0;36m1\u001b[0m\u001b[0;34m]\u001b[0m\u001b[0;34m[\u001b[0m\u001b[0mposition\u001b[0m \u001b[0;34m>=\u001b[0m \u001b[0mattachmentPositions\u001b[0m\u001b[0;34m[\u001b[0m\u001b[0;36m1\u001b[0m\u001b[0;34m]\u001b[0m\u001b[0;34m[\u001b[0m\u001b[0;34m:\u001b[0m\u001b[0;34m]\u001b[0m\u001b[0;34m]\u001b[0m\u001b[0;34m)\u001b[0m\u001b[0;34m\u001b[0m\u001b[0;34m\u001b[0m\u001b[0m\n\u001b[0m\u001b[1;32m     19\u001b[0m     \u001b[0;32mreturn\u001b[0m \u001b[0mbendingAtPosition\u001b[0m\u001b[0;34m\u001b[0m\u001b[0;34m\u001b[0m\u001b[0m\n",
      "\u001b[0;31mValueError\u001b[0m: operands could not be broadcast together with shapes (270,) (5,) "
     ]
    }
   ],
   "source": [
    "#Vizualisation \n",
    "\n",
    "lengthBeam = np.arange(0.001, 2.7, 0.01)\n",
    "heightBeam = np.arange(0.001, 0.15, 0.01)\n",
    "\n",
    "plt.plot(lengthBeam, normalBendingStress(lengthBeam, wingAssembly, \"x\")/1e6)\n",
    "# plt.show()\n",
    "print(lengthBeam)"
   ]
  }
 ],
 "metadata": {
  "kernelspec": {
   "display_name": "Python 3",
   "language": "python",
   "name": "python3"
  },
  "language_info": {
   "codemirror_mode": {
    "name": "ipython",
    "version": 3
   },
   "file_extension": ".py",
   "mimetype": "text/x-python",
   "name": "python",
   "nbconvert_exporter": "python",
   "pygments_lexer": "ipython3",
   "version": "3.7.4"
  }
 },
 "nbformat": 4,
 "nbformat_minor": 2
}
